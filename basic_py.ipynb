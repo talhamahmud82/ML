{
  "nbformat": 4,
  "nbformat_minor": 0,
  "metadata": {
    "colab": {
      "provenance": []
    },
    "kernelspec": {
      "name": "python3",
      "display_name": "Python 3"
    },
    "language_info": {
      "name": "python"
    }
  },
  "cells": [
    {
      "cell_type": "code",
      "execution_count": 17,
      "metadata": {
        "colab": {
          "base_uri": "https://localhost:8080/"
        },
        "id": "82ni9SQhRQV1",
        "outputId": "e4efe14d-114e-42d4-e2dc-0218c4a61468"
      },
      "outputs": [
        {
          "output_type": "stream",
          "name": "stdout",
          "text": [
            "Talha\n",
            "I am a student\n"
          ]
        }
      ],
      "source": [
        "#1st\n",
        "print (\"Talha\")\n",
        "print ('I am a student')"
      ]
    },
    {
      "cell_type": "markdown",
      "source": [],
      "metadata": {
        "id": "qaLW47U_ewFI"
      }
    },
    {
      "cell_type": "code",
      "source": [
        "#Swaping\n",
        "a, b = 10, 20\n",
        "a, b = b, a\n",
        "print(a,b)"
      ],
      "metadata": {
        "colab": {
          "base_uri": "https://localhost:8080/"
        },
        "id": "BV9r0QpORig7",
        "outputId": "7505dd63-ee9c-4d44-fe6c-cda9d8524f58"
      },
      "execution_count": 3,
      "outputs": [
        {
          "output_type": "stream",
          "name": "stdout",
          "text": [
            "20 10\n"
          ]
        }
      ]
    },
    {
      "cell_type": "code",
      "source": [
        "#condition\n",
        "if 5 > 2:\n",
        "  print(\"Five is greater than two!\")"
      ],
      "metadata": {
        "colab": {
          "base_uri": "https://localhost:8080/"
        },
        "id": "aIKNZUgEZpHI",
        "outputId": "f0c40e3e-dbb5-41ea-d250-1884d68d342b"
      },
      "execution_count": 5,
      "outputs": [
        {
          "output_type": "stream",
          "name": "stdout",
          "text": [
            "Five is greater than two!\n"
          ]
        }
      ]
    },
    {
      "cell_type": "code",
      "source": [
        "if 5 > 2:\n",
        " print(\"Five is greater than two!\")\n",
        "if 5 > 2:\n",
        "        print(\"Five is greater than two!\")"
      ],
      "metadata": {
        "colab": {
          "base_uri": "https://localhost:8080/"
        },
        "id": "yt4oeJBJbHMg",
        "outputId": "ea6b3c4c-7235-48e0-b286-c4119e96f87f"
      },
      "execution_count": 6,
      "outputs": [
        {
          "output_type": "stream",
          "name": "stdout",
          "text": [
            "Five is greater than two!\n",
            "Five is greater than two!\n"
          ]
        }
      ]
    },
    {
      "cell_type": "code",
      "source": [
        "#Creating Variables\n",
        "x = 23\n",
        "y = \"Talha\"\n",
        "print(\"Age:\",x)\n",
        "print(\"Name:\",y)"
      ],
      "metadata": {
        "colab": {
          "base_uri": "https://localhost:8080/"
        },
        "id": "FjsRua4WbTi4",
        "outputId": "9003e662-2f5e-418c-b729-c18a1b7dd6c6"
      },
      "execution_count": 13,
      "outputs": [
        {
          "output_type": "stream",
          "name": "stdout",
          "text": [
            "Age: 23\n",
            "Name: Talha\n"
          ]
        }
      ]
    },
    {
      "cell_type": "code",
      "source": [
        "#Casting\n",
        "x = str(1)\n",
        "y= int(1)\n",
        "z= float(1)"
      ],
      "metadata": {
        "id": "Q5_PP0VYckiA"
      },
      "execution_count": 15,
      "outputs": []
    },
    {
      "cell_type": "code",
      "source": [
        "#Get the Type\n",
        "x = 5\n",
        "y = \"Talha\"\n",
        "print (type(x))\n",
        "print (type(y))"
      ],
      "metadata": {
        "colab": {
          "base_uri": "https://localhost:8080/"
        },
        "id": "OTsFWEx6dm6z",
        "outputId": "46b31cee-569a-4455-9189-70eb2e6ea987"
      },
      "execution_count": 16,
      "outputs": [
        {
          "output_type": "stream",
          "name": "stdout",
          "text": [
            "<class 'int'>\n",
            "<class 'str'>\n"
          ]
        }
      ]
    },
    {
      "cell_type": "code",
      "source": [],
      "metadata": {
        "id": "AS16gjAVexwt"
      },
      "execution_count": null,
      "outputs": []
    }
  ]
}