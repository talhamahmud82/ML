{
  "nbformat": 4,
  "nbformat_minor": 0,
  "metadata": {
    "colab": {
      "provenance": [],
      "authorship_tag": "ABX9TyNL3MUSekgQYJo7qa3lM/1N",
      "include_colab_link": true
    },
    "kernelspec": {
      "name": "python3",
      "display_name": "Python 3"
    },
    "language_info": {
      "name": "python"
    }
  },
  "cells": [
    {
      "cell_type": "markdown",
      "metadata": {
        "id": "view-in-github",
        "colab_type": "text"
      },
      "source": [
        "<a href=\"https://colab.research.google.com/github/talhamahmud82/ML/blob/main/panda.ipynb\" target=\"_parent\"><img src=\"https://colab.research.google.com/assets/colab-badge.svg\" alt=\"Open In Colab\"/></a>"
      ]
    },
    {
      "cell_type": "code",
      "execution_count": null,
      "metadata": {
        "id": "-NLGKtATibcz"
      },
      "outputs": [],
      "source": [
        "'''\n",
        "What is Pandas?\n",
        "Pandas is a Python library used for working with data sets.\n",
        "\n",
        "It has functions for analyzing, cleaning, exploring, and manipulating data.\n",
        "andas allows us to analyze big data and make conclusions based on statistical theories\n",
        "'''"
      ]
    },
    {
      "cell_type": "code",
      "source": [
        "#Import Pandas\n",
        "import pandas\n",
        "\n",
        "mydataset = {'Subject': [\"ML\", \"AI\", \"CN\"], 'Mark': [13, 9, 8]}\n",
        "\n",
        "myvar = pandas.DataFrame(mydataset)\n",
        "\n",
        "print(myvar)"
      ],
      "metadata": {
        "colab": {
          "base_uri": "https://localhost:8080/"
        },
        "id": "anmHN5XqjYNc",
        "outputId": "ed60fa23-ea6e-4746-c979-47e77782b4dc"
      },
      "execution_count": 2,
      "outputs": [
        {
          "output_type": "stream",
          "name": "stdout",
          "text": [
            "  Subject  Mark\n",
            "0      ML    13\n",
            "1      AI     9\n",
            "2      CN     8\n"
          ]
        }
      ]
    },
    {
      "cell_type": "code",
      "source": [
        "import pandas\n",
        "\n",
        "mydataset = {'Name': [\"Talha\", \"Siam\", \"Asif\", \"Alif\", \"Mehedi\"], 'Age': [22, 22, 22, 21, 21]}\n",
        "\n",
        "myvar = pandas.DataFrame (mydataset)\n",
        "\n",
        "print(myvar)"
      ],
      "metadata": {
        "colab": {
          "base_uri": "https://localhost:8080/"
        },
        "id": "_3Cnhn2ckhoZ",
        "outputId": "ea5fe9b2-014e-47d0-cab5-f086365613de"
      },
      "execution_count": 9,
      "outputs": [
        {
          "output_type": "stream",
          "name": "stdout",
          "text": [
            "     Name  Age\n",
            "0   Talha   22\n",
            "1    Siam   22\n",
            "2    Asif   22\n",
            "3    Alif   21\n",
            "4  Mehedi   21\n"
          ]
        }
      ]
    },
    {
      "cell_type": "code",
      "source": [
        "'''\n",
        "Pandas as pd\n",
        "Pandas is usually imported under the pd alias.\n",
        "'''\n",
        "import pandas as pd\n",
        "\n",
        "mydataset = {'Subject': [\"ML\", \"AI\", \"CN\"], 'Mark': [13, 9, 8]}\n",
        "\n",
        "myvar = pd.DataFrame(mydataset)\n",
        "\n",
        "print(myvar)"
      ],
      "metadata": {
        "colab": {
          "base_uri": "https://localhost:8080/"
        },
        "id": "WeS3sROAmzFI",
        "outputId": "9f7fa1fc-07f1-4ac9-b78d-473f33f37f19"
      },
      "execution_count": 11,
      "outputs": [
        {
          "output_type": "stream",
          "name": "stdout",
          "text": [
            "  Subject  Mark\n",
            "0      ML    13\n",
            "1      AI     9\n",
            "2      CN     8\n"
          ]
        }
      ]
    },
    {
      "cell_type": "code",
      "source": [
        "'''\n",
        "Pandas Series...\n",
        "\n",
        "What is a Series?\n",
        "A Pandas Series is like a column in a table.\n",
        "\n",
        "It is a one-dimensional array holding data of any type.\n",
        "'''\n",
        "\n",
        "import pandas as pd\n",
        "\n",
        "a = [1, 7, 2]\n",
        "\n",
        "myvar = pd.Series(a)\n",
        "\n",
        "print(myvar)"
      ],
      "metadata": {
        "colab": {
          "base_uri": "https://localhost:8080/"
        },
        "id": "yJGiUg5onL7f",
        "outputId": "9625af41-cdfd-4766-83c1-364f2dbee3ef"
      },
      "execution_count": 12,
      "outputs": [
        {
          "output_type": "stream",
          "name": "stdout",
          "text": [
            "0    1\n",
            "1    7\n",
            "2    2\n",
            "dtype: int64\n"
          ]
        }
      ]
    },
    {
      "cell_type": "code",
      "source": [
        "#Create Labels\n",
        "import pandas as pd\n",
        "\n",
        "x = [1, 7, 2]\n",
        "\n",
        "myvar = pd.Series(x, index = [\"a\", \"b\", \"c\"])\n",
        "\n",
        "print(myvar)"
      ],
      "metadata": {
        "colab": {
          "base_uri": "https://localhost:8080/"
        },
        "id": "65NR8xnDnsuC",
        "outputId": "594f62b6-944a-483b-dd3e-e59551762262"
      },
      "execution_count": 14,
      "outputs": [
        {
          "output_type": "stream",
          "name": "stdout",
          "text": [
            "a    1\n",
            "b    7\n",
            "c    2\n",
            "dtype: int64\n"
          ]
        }
      ]
    },
    {
      "cell_type": "code",
      "source": [
        "#Key/Value Objects as Series\n",
        "\n",
        "import pandas as pd\n",
        "\n",
        "calories = {\"day-1 :\": 420, \"day-2 :\": 380, \"day-3 :\": 390}\n",
        "\n",
        "myvar = pd.Series(calories)\n",
        "\n",
        "print(myvar)"
      ],
      "metadata": {
        "colab": {
          "base_uri": "https://localhost:8080/"
        },
        "id": "yQCRNlI6n_ze",
        "outputId": "d3e2a4cd-082b-45b3-d9dd-feedce579996"
      },
      "execution_count": 17,
      "outputs": [
        {
          "output_type": "stream",
          "name": "stdout",
          "text": [
            "day-1 :    420\n",
            "day-2 :    380\n",
            "day-3 :    390\n",
            "dtype: int64\n"
          ]
        }
      ]
    }
  ]
}